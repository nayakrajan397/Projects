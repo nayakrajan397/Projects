{
 "cells": [
  {
   "cell_type": "code",
   "execution_count": 1,
   "metadata": {},
   "outputs": [],
   "source": [
    "# importing all the essential libraries\n",
    "\n",
    "import requests\n",
    "import smtplib\n",
    "from datetime import datetime"
   ]
  },
  {
   "cell_type": "code",
   "execution_count": 2,
   "metadata": {},
   "outputs": [],
   "source": [
    "# Retrieve latest bitcoin price in USD from this API link\n",
    "\n",
    "bitcoin_api_url = 'https://blockchain.info/ticker'\n"
   ]
  },
  {
   "cell_type": "code",
   "execution_count": 3,
   "metadata": {},
   "outputs": [],
   "source": [
    "# Set limit till 10000\n",
    "Bitcoin_Price_Threshold = 10000"
   ]
  },
  {
   "cell_type": "code",
   "execution_count": 4,
   "metadata": {},
   "outputs": [],
   "source": [
    "def get_latest_bitcoin_price():\n",
    "    \n",
    "    payload = {}\n",
    "    headers = {}\n",
    "    \n",
    "    #response = requests.get(bitcoin_api_url)\n",
    "    response = requests.request(\"GET\", bitcoin_api_url, headers=headers, data = payload)\n",
    "    response = response.json()\n",
    "    print(response)\n",
    "    print(response['USD']['15m'])\n",
    "    return(response['USD']['15m'])\n",
    "    "
   ]
  },
  {
   "cell_type": "code",
   "execution_count": 6,
   "metadata": {},
   "outputs": [],
   "source": [
    "def send_email_notification(price_new):\n",
    "    # sender email address\n",
    "    email_address = 'bitcoinpriceupdate@gmail.com'\n",
    "    \n",
    "    # sender password\n",
    "    password = 'groupnumber@21'\n",
    "    \n",
    "    # recievers email address\n",
    "    # INPUT YOUR GMAIL ADDRESS \n",
    "    reciever = 'bitcoinpriceupdate@gmail.com'\n",
    "    \n",
    "    # Connect to the Gmail server using SMTP Class\n",
    "    # Port number : 587\n",
    "    server = smtplib.SMTP('smtp.gmail.com', 587)\n",
    "    \n",
    "    # Identifies the user with the server\n",
    "    server.ehlo()\n",
    "    \n",
    "    # Encrypt the traffic\n",
    "    server.starttls()\n",
    "    \n",
    "    # Reidentifies the user with encrypted connection to the server\n",
    "    server.ehlo()\n",
    "    \n",
    "    # Login to email address using the gmail server\n",
    "    server.login(email_address, password)\n",
    "    \n",
    "    # Email essentials\n",
    "    subject = 'Bitcoin Price Update'\n",
    "    body = 'Hello' + '\\n' + 'Bitcoin' + ' ' +'and' + ' '+ 'Price:' + price_new\n",
    "    message = f'Subject: {subject}\\n\\n{body}'\n",
    "    \n",
    "    # sender email credentials\n",
    "    server.sendmail(email_address, reciever, message)"
   ]
  },
  {
   "cell_type": "code",
   "execution_count": 7,
   "metadata": {},
   "outputs": [
    {
     "name": "stdout",
     "output_type": "stream",
     "text": [
      "{'USD': {'15m': 7134.82, 'last': 7134.82, 'buy': 7134.82, 'sell': 7134.82, 'symbol': '$'}, 'AUD': {'15m': 11771.78, 'last': 11771.78, 'buy': 11771.78, 'sell': 11771.78, 'symbol': '$'}, 'BRL': {'15m': 38172.61, 'last': 38172.61, 'buy': 38172.61, 'sell': 38172.61, 'symbol': 'R$'}, 'CAD': {'15m': 10078.83, 'last': 10078.83, 'buy': 10078.83, 'sell': 10078.83, 'symbol': '$'}, 'CHF': {'15m': 6979.53, 'last': 6979.53, 'buy': 6979.53, 'sell': 6979.53, 'symbol': 'CHF'}, 'CLP': {'15m': 6176608.58, 'last': 6176608.58, 'buy': 6176608.58, 'sell': 6176608.58, 'symbol': '$'}, 'CNY': {'15m': 50602.25, 'last': 50602.25, 'buy': 50602.25, 'sell': 50602.25, 'symbol': '¥'}, 'DKK': {'15m': 49372.78, 'last': 49372.78, 'buy': 49372.78, 'sell': 49372.78, 'symbol': 'kr'}, 'EUR': {'15m': 6609.41, 'last': 6609.41, 'buy': 6609.41, 'sell': 6609.41, 'symbol': '€'}, 'GBP': {'15m': 5795.59, 'last': 5795.59, 'buy': 5795.59, 'sell': 5795.59, 'symbol': '£'}, 'HKD': {'15m': 55319.32, 'last': 55319.32, 'buy': 55319.32, 'sell': 55319.32, 'symbol': '$'}, 'INR': {'15m': 543066.54, 'last': 543066.54, 'buy': 543066.54, 'sell': 543066.54, 'symbol': '₹'}, 'ISK': {'15m': 1028055.39, 'last': 1028055.39, 'buy': 1028055.39, 'sell': 1028055.39, 'symbol': 'kr'}, 'JPY': {'15m': 778978.01, 'last': 778978.01, 'buy': 778978.01, 'sell': 778978.01, 'symbol': '¥'}, 'KRW': {'15m': 8772470.16, 'last': 8772470.16, 'buy': 8772470.16, 'sell': 8772470.16, 'symbol': '₩'}, 'NZD': {'15m': 12059.33, 'last': 12059.33, 'buy': 12059.33, 'sell': 12059.33, 'symbol': '$'}, 'PLN': {'15m': 30132.7, 'last': 30132.7, 'buy': 30132.7, 'sell': 30132.7, 'symbol': 'zł'}, 'RUB': {'15m': 544699.67, 'last': 544699.67, 'buy': 544699.67, 'sell': 544699.67, 'symbol': 'RUB'}, 'SEK': {'15m': 72602.57, 'last': 72602.57, 'buy': 72602.57, 'sell': 72602.57, 'symbol': 'kr'}, 'SGD': {'15m': 10237.73, 'last': 10237.73, 'buy': 10237.73, 'sell': 10237.73, 'symbol': '$'}, 'THB': {'15m': 234547.4, 'last': 234547.4, 'buy': 234547.4, 'sell': 234547.4, 'symbol': '฿'}, 'TRY': {'15m': 48362.22, 'last': 48362.22, 'buy': 48362.22, 'sell': 48362.22, 'symbol': '₺'}, 'TWD': {'15m': 215639.11, 'last': 215639.11, 'buy': 215639.11, 'sell': 215639.11, 'symbol': 'NT$'}}\n",
      "7134.82\n"
     ]
    }
   ],
   "source": [
    "def main():\n",
    "    bitcon_history = []\n",
    "    while True:\n",
    "        price = get_latest_bitcoin_price()\n",
    "        type(price)\n",
    "        bit_price = str(price)\n",
    "        type(bit_price)\n",
    "        date = datetime.now()\n",
    "        bitcon_history.append({'date': date, 'price' : bit_price})\n",
    "        if price < Bitcoin_Price_Threshold:\n",
    "            send_email_notification(bit_price)\n",
    "            break\n",
    "            \n",
    "\n",
    "if __name__ == '__main__':\n",
    "    main() \n"
   ]
  },
  {
   "cell_type": "code",
   "execution_count": null,
   "metadata": {},
   "outputs": [],
   "source": []
  }
 ],
 "metadata": {
  "kernelspec": {
   "display_name": "Python 3",
   "language": "python",
   "name": "python3"
  },
  "language_info": {
   "codemirror_mode": {
    "name": "ipython",
    "version": 3
   },
   "file_extension": ".py",
   "mimetype": "text/x-python",
   "name": "python",
   "nbconvert_exporter": "python",
   "pygments_lexer": "ipython3",
   "version": "3.7.4"
  }
 },
 "nbformat": 4,
 "nbformat_minor": 2
}
